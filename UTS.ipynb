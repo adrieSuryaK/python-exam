{
 "cells": [
  {
   "cell_type": "markdown",
   "id": "2714f91b",
   "metadata": {},
   "source": [
    "<h2 style=\"color:blue\"> SOAL 01 </h2>"
   ]
  },
  {
   "cell_type": "code",
   "execution_count": 2,
   "id": "ea82a5e2",
   "metadata": {},
   "outputs": [
    {
     "name": "stdout",
     "output_type": "stream",
     "text": [
      "a. Pak Raden telah berhasil menambahkan Malaysia dan Kuala Lumpur pada list dibawah ini: \n",
      "\n",
      "['Indonesia', 'USA', 'Belanda', 'Inggris', 'Prancis', 'Thailand', 'Malaysia']\n",
      "['Jakarta', 'Washington', 'Amsterdam', 'London', 'Paris', 'Bangkok', 'Kuala Lumpur']\n"
     ]
    }
   ],
   "source": [
    "#dua list dari soal 1\n",
    "list1 = ['Indonesia', 'USA', 'Belanda', 'Inggris', 'Prancis', 'Thailand']\n",
    "list2 = ['Jakarta', 'Washington', 'Amsterdam', 'London', 'Paris', 'Bangkok']\n",
    "\n",
    "#a. menambah isi list\n",
    "list1.append('Malaysia')\n",
    "list2.append('Kuala Lumpur')\n",
    "\n",
    "print('a. Pak Raden telah berhasil menambahkan Malaysia dan Kuala Lumpur pada list dibawah ini: \\n')\n",
    "print(list1)\n",
    "print(list2)"
   ]
  },
  {
   "cell_type": "code",
   "execution_count": 3,
   "id": "1b2a3f86",
   "metadata": {},
   "outputs": [
    {
     "name": "stdout",
     "output_type": "stream",
     "text": [
      "b. Pak Raden telah berhasil mengganti jakarta menjadi nusantara pada list dibawah ini: \n",
      "\n",
      "['nusantara', 'Washington', 'Amsterdam', 'London', 'Paris', 'Bangkok', 'Kuala Lumpur']\n"
     ]
    }
   ],
   "source": [
    "#b. mengganti salah satu isi list\n",
    "list2 [0] = 'nusantara'\n",
    "print('b. Pak Raden telah berhasil mengganti jakarta menjadi nusantara pada list dibawah ini: \\n')\n",
    "print(list2)"
   ]
  },
  {
   "cell_type": "code",
   "execution_count": 4,
   "id": "cc295916",
   "metadata": {},
   "outputs": [
    {
     "name": "stdout",
     "output_type": "stream",
     "text": [
      "c. Pak Raden telah berhasil mengurutkan ascending pada list dibawah ini: \n",
      "\n",
      "['Belanda', 'Indonesia', 'Inggris', 'Malaysia', 'Prancis', 'Thailand', 'USA']\n",
      "['Amsterdam', 'Bangkok', 'Kuala Lumpur', 'London', 'Paris', 'Washington', 'nusantara']\n"
     ]
    }
   ],
   "source": [
    "#c. mengurutkan list secara ascending\n",
    "list1.sort()\n",
    "list2.sort()\n",
    "print('c. Pak Raden telah berhasil mengurutkan ascending pada list dibawah ini: \\n')\n",
    "print(list1)\n",
    "print(list2)"
   ]
  },
  {
   "cell_type": "code",
   "execution_count": 5,
   "id": "4b7fe877",
   "metadata": {},
   "outputs": [
    {
     "name": "stdout",
     "output_type": "stream",
     "text": [
      "d. Pak Raden telah berhasil print index 0 s/d 4 pada list ascending dibawah ini: \n",
      "\n",
      "['Belanda', 'Indonesia', 'Inggris', 'Malaysia', 'Prancis']\n",
      "['Amsterdam', 'Bangkok', 'Kuala Lumpur', 'London', 'Paris']\n"
     ]
    }
   ],
   "source": [
    "#d. print list dari index 0 s/d 4\n",
    "print('d. Pak Raden telah berhasil print index 0 s/d 4 pada list ascending dibawah ini: \\n')\n",
    "print(list1 [0:5])\n",
    "print(list2 [0:5])"
   ]
  },
  {
   "cell_type": "markdown",
   "id": "daecb1a9",
   "metadata": {},
   "source": [
    "<h2 style=\"color:blue\"> SOAL 02 </h2>"
   ]
  },
  {
   "cell_type": "code",
   "execution_count": 6,
   "id": "47390f2e",
   "metadata": {},
   "outputs": [
    {
     "name": "stdout",
     "output_type": "stream",
     "text": [
      "Halo kak selamat datang di vending machine local pride\n",
      "silakan masukan nama: Unyil\n",
      "masukan jumlah beli: 3\n",
      "total yang harus dibayar  15 dolar\n",
      "masukan uang: 2\n",
      "kamu uda memasukan:  2 dolar\n",
      "masukan uang: 5\n",
      "kamu uda memasukan:  7 dolar\n",
      "masukan uang: 100\n",
      "bukan 2/5/10 dolar\n",
      "kamu uda memasukan:  7 dolar\n",
      "masukan uang: 10\n",
      "uang kembali 2 dolar. Terima kasih Unyil, selamat minum!\n"
     ]
    }
   ],
   "source": [
    "#Pak Raden beli minuman di vending machine\n",
    "def vending():\n",
    "    print('Halo kak selamat datang di vending machine local pride')\n",
    "    nama = input('silakan masukan nama: ')\n",
    "    hargaMinuman = 5\n",
    "    jmlBeli = int(input('masukan jumlah beli: '))\n",
    "    bayar = 0\n",
    "    if jmlBeli > 0:\n",
    "        total = hargaMinuman * jmlBeli\n",
    "        print('total yang harus dibayar ', total, 'dolar')\n",
    "\n",
    "        while True:\n",
    "            nilaiUang = int(input('masukan uang: '))\n",
    "            if nilaiUang == 2 or nilaiUang == 5 or nilaiUang == 10:\n",
    "                bayar = bayar + nilaiUang\n",
    "            else:\n",
    "                print('bukan 2/5/10 dolar')\n",
    "\n",
    "            if bayar == total:\n",
    "                print(f\"Kamu sudah memasukan {bayar} dolar\")\n",
    "                print(f\"Terima kasih {nama}, selamat minum!\")\n",
    "                break\n",
    "            elif bayar > total:\n",
    "                print(f\"uang kembali {bayar - total} dolar. Terima kasih {nama}, selamat minum!\")\n",
    "                break\n",
    "            else:\n",
    "                print('kamu uda memasukan: ', bayar, 'dolar')\n",
    "\n",
    "\n",
    "vending()\n"
   ]
  },
  {
   "cell_type": "markdown",
   "id": "e3f4fb59",
   "metadata": {},
   "source": [
    "<h2 style=\"color:blue\"> SOAL 03 </h2>"
   ]
  },
  {
   "cell_type": "code",
   "execution_count": 7,
   "id": "e623b42e",
   "metadata": {},
   "outputs": [
    {
     "name": "stdout",
     "output_type": "stream",
     "text": [
      "Cek angka? | ya/tidak \n",
      "ya\n",
      "Masukan angka: 1\n",
      "satuan\n",
      "Cek angka? | ya/tidak \n",
      "ya\n",
      "Masukan angka: 12\n",
      "puluhan\n",
      "Cek angka? | ya/tidak \n",
      "ya\n",
      "Masukan angka: 123\n",
      "ratusan\n",
      "Cek angka? | ya/tidak \n",
      "ya\n",
      "Masukan angka: 1234\n",
      "ribuan\n",
      "Cek angka? | ya/tidak \n",
      "ya\n",
      "Masukan angka: 12345\n",
      "puluh ribuan\n",
      "Cek angka? | ya/tidak \n",
      "ya\n",
      "Masukan angka: 123456\n",
      "angka tidak masuk kedalam range hitungan\n",
      "Cek angka? | ya/tidak \n",
      "tidak\n"
     ]
    }
   ],
   "source": [
    "#pak Raden minta cek bilangan\n",
    "def cekAngka():\n",
    "    N = int(input(\"Masukan angka: \"))\n",
    "\n",
    "    if (len(str(N))) ==1:\n",
    "        print('satuan')\n",
    "    elif (len(str(N))) ==2:\n",
    "        print('puluhan')\n",
    "    elif (len(str(N))) ==3:\n",
    "        print('ratusan')\n",
    "    elif (len(str(N))) ==4:\n",
    "        print('ribuan')\n",
    "    elif (len(str(N))) ==5:\n",
    "        print('puluh ribuan')\n",
    "    else:\n",
    "        print('angka tidak masuk kedalam range hitungan')\n",
    "    \n",
    "while True:\n",
    "    ulang = input(\"Cek angka? | ya/tidak \\n\")\n",
    "    if ulang==\"ya\":\n",
    "        cekAngka()\n",
    "        continue\n",
    "    elif ulang==\"tidak\":\n",
    "        break\n",
    "    else:\n",
    "        print(\"Jawab ya/tidak saja. Mw ulang? | ya/tidak \\n\")"
   ]
  }
 ],
 "metadata": {
  "kernelspec": {
   "display_name": "Python 3 (ipykernel)",
   "language": "python",
   "name": "python3"
  },
  "language_info": {
   "codemirror_mode": {
    "name": "ipython",
    "version": 3
   },
   "file_extension": ".py",
   "mimetype": "text/x-python",
   "name": "python",
   "nbconvert_exporter": "python",
   "pygments_lexer": "ipython3",
   "version": "3.10.6"
  }
 },
 "nbformat": 4,
 "nbformat_minor": 5
}
